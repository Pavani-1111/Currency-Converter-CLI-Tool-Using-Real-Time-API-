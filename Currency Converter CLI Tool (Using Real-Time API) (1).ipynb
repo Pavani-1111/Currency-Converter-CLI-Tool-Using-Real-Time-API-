{
 "cells": [
  {
   "cell_type": "code",
   "execution_count": 1,
   "id": "687be5c8-1801-4af0-bc25-7bdfcc1f54dd",
   "metadata": {},
   "outputs": [
    {
     "name": "stdout",
     "output_type": "stream",
     "text": [
      "Requirement already satisfied: requests in c:\\users\\uppal\\anaconda3\\lib\\site-packages (2.32.3)\n",
      "Requirement already satisfied: charset-normalizer<4,>=2 in c:\\users\\uppal\\anaconda3\\lib\\site-packages (from requests) (3.3.2)\n",
      "Requirement already satisfied: idna<4,>=2.5 in c:\\users\\uppal\\anaconda3\\lib\\site-packages (from requests) (3.7)\n",
      "Requirement already satisfied: urllib3<3,>=1.21.1 in c:\\users\\uppal\\anaconda3\\lib\\site-packages (from requests) (2.2.3)\n",
      "Requirement already satisfied: certifi>=2017.4.17 in c:\\users\\uppal\\anaconda3\\lib\\site-packages (from requests) (2025.4.26)\n"
     ]
    }
   ],
   "source": [
    "!pip install requests"
   ]
  },
  {
   "cell_type": "code",
   "execution_count": 2,
   "id": "246c318f-19f7-453f-8b7f-ea6fea97de13",
   "metadata": {},
   "outputs": [],
   "source": [
    "import requests\n",
    "\n",
    "API_KEY = \"8bc2c92162878ede6004b354\"  \n",
    "\n",
    "def get_exchange_rate(base_currency, target_currency):\n",
    "    url = f\"https://v6.exchangerate-api.com/v6/{API_KEY}/latest/{base_currency.upper()}\"\n",
    "    print(\"Requesting URL:\", url)  \n",
    "    response = requests.get(url)\n",
    "    print(\"Status Code:\", response.status_code)  \n",
    "    print(\"Response JSON:\", response.json())     \n",
    "    \n",
    "    data = response.json()\n",
    "\n",
    "    if response.status_code != 200 or data.get(\"result\") != \"success\":\n",
    "        print(\" Error fetching exchange rate.\")\n",
    "        return None\n",
    "\n",
    "    return data['conversion_rates'].get(target_currency.upper())\n"
   ]
  },
  {
   "cell_type": "code",
   "execution_count": 3,
   "id": "f894c01e-7210-410e-9767-fde7902b8d38",
   "metadata": {},
   "outputs": [
    {
     "name": "stdout",
     "output_type": "stream",
     "text": [
      "Requesting URL: https://v6.exchangerate-api.com/v6/8bc2c92162878ede6004b354/latest/USD\n",
      "Status Code: 200\n",
      "Response JSON: {'result': 'success', 'documentation': 'https://www.exchangerate-api.com/docs', 'terms_of_use': 'https://www.exchangerate-api.com/terms', 'time_last_update_unix': 1752105602, 'time_last_update_utc': 'Thu, 10 Jul 2025 00:00:02 +0000', 'time_next_update_unix': 1752192002, 'time_next_update_utc': 'Fri, 11 Jul 2025 00:00:02 +0000', 'base_code': 'USD', 'conversion_rates': {'USD': 1, 'AED': 3.6725, 'AFN': 69.183, 'ALL': 83.6627, 'AMD': 384.0411, 'ANG': 1.79, 'AOA': 919.5729, 'ARS': 1258.0, 'AUD': 1.5308, 'AWG': 1.79, 'AZN': 1.7009, 'BAM': 1.6692, 'BBD': 2.0, 'BDT': 121.9651, 'BGN': 1.6695, 'BHD': 0.376, 'BIF': 2973.9404, 'BMD': 1.0, 'BND': 1.2806, 'BOB': 6.9236, 'BRL': 5.4611, 'BSD': 1.0, 'BTN': 85.7263, 'BWP': 13.3723, 'BYN': 3.1897, 'BZD': 2.0, 'CAD': 1.3689, 'CDF': 2893.4569, 'CHF': 0.7949, 'CLP': 941.3841, 'CNY': 7.1829, 'COP': 4055.0149, 'CRC': 504.9842, 'CUP': 24.0, 'CVE': 94.1037, 'CZK': 21.0377, 'DJF': 177.721, 'DKK': 6.3659, 'DOP': 59.98, 'DZD': 129.788, 'EGP': 49.6182, 'ERN': 15.0, 'ETB': 137.5551, 'EUR': 0.8534, 'FJD': 2.2503, 'FKP': 0.736, 'FOK': 6.3662, 'GBP': 0.736, 'GEL': 2.7167, 'GGP': 0.736, 'GHS': 10.6314, 'GIP': 0.736, 'GMD': 72.7396, 'GNF': 8682.7498, 'GTQ': 7.6885, 'GYD': 209.1568, 'HKD': 7.8502, 'HNL': 26.1719, 'HRK': 6.4302, 'HTG': 131.1349, 'HUF': 341.4745, 'IDR': 16263.743, 'ILS': 3.3221, 'IMP': 0.736, 'INR': 85.7264, 'IQD': 1310.1476, 'IRR': 42334.5188, 'ISK': 122.5678, 'JEP': 0.736, 'JMD': 159.8444, 'JOD': 0.709, 'JPY': 146.3636, 'KES': 129.335, 'KGS': 87.4003, 'KHR': 4015.4022, 'KID': 1.5307, 'KMF': 419.861, 'KRW': 1374.4016, 'KWD': 0.3055, 'KYD': 0.8333, 'KZT': 518.843, 'LAK': 21597.6295, 'LBP': 89500.0, 'LKR': 300.7053, 'LRD': 200.4718, 'LSL': 17.8114, 'LYD': 5.4022, 'MAD': 9.0078, 'MDL': 16.9167, 'MGA': 4415.7536, 'MKD': 52.5961, 'MMK': 2102.3891, 'MNT': 3608.1854, 'MOP': 8.0857, 'MRU': 39.931, 'MUR': 45.197, 'MVR': 15.4601, 'MWK': 1739.7796, 'MXN': 18.613, 'MYR': 4.2509, 'MZN': 63.6983, 'NAD': 17.8114, 'NGN': 1530.3732, 'NIO': 36.8156, 'NOK': 10.0909, 'NPR': 137.162, 'NZD': 1.6674, 'OMR': 0.3845, 'PAB': 1.0, 'PEN': 3.5503, 'PGK': 4.18, 'PHP': 56.5894, 'PKR': 284.0285, 'PLN': 3.6221, 'PYG': 7840.5387, 'QAR': 3.64, 'RON': 4.338, 'RSD': 100.0988, 'RUB': 78.2208, 'RWF': 1446.6251, 'SAR': 3.75, 'SBD': 8.2609, 'SCR': 14.5686, 'SDG': 544.224, 'SEK': 9.5152, 'SGD': 1.2804, 'SHP': 0.736, 'SLE': 22.4531, 'SLL': 22453.1339, 'SOS': 571.5225, 'SRD': 37.3735, 'SSP': 4533.1783, 'STN': 20.9091, 'SYP': 12956.374, 'SZL': 17.8114, 'THB': 32.6627, 'TJS': 9.7, 'TMT': 3.4991, 'TND': 2.8957, 'TOP': 2.377, 'TRY': 40.0827, 'TTD': 6.7793, 'TVD': 1.5307, 'TWD': 29.1281, 'TZS': 2613.0382, 'UAH': 41.8051, 'UGX': 3577.5163, 'UYU': 40.4847, 'UZS': 12692.9291, 'VES': 113.7505, 'VND': 26081.2173, 'VUV': 119.3634, 'WST': 2.733, 'XAF': 559.8146, 'XCD': 2.7, 'XCG': 1.79, 'XDR': 0.7294, 'XOF': 559.8146, 'XPF': 101.8417, 'YER': 242.1688, 'ZAR': 17.8128, 'ZMW': 24.4336, 'ZWL': 26.8905}}\n"
     ]
    },
    {
     "data": {
      "text/plain": [
       "85.7264"
      ]
     },
     "execution_count": 3,
     "metadata": {},
     "output_type": "execute_result"
    }
   ],
   "source": [
    "get_exchange_rate(\"USD\", \"INR\")\n"
   ]
  },
  {
   "cell_type": "code",
   "execution_count": 4,
   "id": "ad496f36-1476-40f7-9c56-42eebda55e20",
   "metadata": {},
   "outputs": [],
   "source": [
    "def convert_currency(amount, base_currency, target_currency):\n",
    "    rate = get_exchange_rate(base_currency, target_currency)\n",
    "    if rate:\n",
    "        converted = round(amount * rate, 2)\n",
    "        print(f\"\\n {amount} {base_currency.upper()} = {converted} {target_currency.upper()}\")\n",
    "        print(f\"(Exchange rate: 1 {base_currency.upper()} = {rate} {target_currency.upper()})\")\n",
    "    else:\n",
    "        print(\"Conversion failed.\")\n"
   ]
  },
  {
   "cell_type": "code",
   "execution_count": 5,
   "id": "27a3cfe3-2f07-443c-abfa-6a5837635836",
   "metadata": {},
   "outputs": [
    {
     "name": "stdin",
     "output_type": "stream",
     "text": [
      "Enter amount to convert:  100\n",
      "Enter source currency (USD):  USD\n",
      "Enter target currency (INR):  INR\n"
     ]
    },
    {
     "name": "stdout",
     "output_type": "stream",
     "text": [
      "Requesting URL: https://v6.exchangerate-api.com/v6/8bc2c92162878ede6004b354/latest/USD\n",
      "Status Code: 200\n",
      "Response JSON: {'result': 'success', 'documentation': 'https://www.exchangerate-api.com/docs', 'terms_of_use': 'https://www.exchangerate-api.com/terms', 'time_last_update_unix': 1752105602, 'time_last_update_utc': 'Thu, 10 Jul 2025 00:00:02 +0000', 'time_next_update_unix': 1752192002, 'time_next_update_utc': 'Fri, 11 Jul 2025 00:00:02 +0000', 'base_code': 'USD', 'conversion_rates': {'USD': 1, 'AED': 3.6725, 'AFN': 69.183, 'ALL': 83.6627, 'AMD': 384.0411, 'ANG': 1.79, 'AOA': 919.5729, 'ARS': 1258.0, 'AUD': 1.5308, 'AWG': 1.79, 'AZN': 1.7009, 'BAM': 1.6692, 'BBD': 2.0, 'BDT': 121.9651, 'BGN': 1.6695, 'BHD': 0.376, 'BIF': 2973.9404, 'BMD': 1.0, 'BND': 1.2806, 'BOB': 6.9236, 'BRL': 5.4611, 'BSD': 1.0, 'BTN': 85.7263, 'BWP': 13.3723, 'BYN': 3.1897, 'BZD': 2.0, 'CAD': 1.3689, 'CDF': 2893.4569, 'CHF': 0.7949, 'CLP': 941.3841, 'CNY': 7.1829, 'COP': 4055.0149, 'CRC': 504.9842, 'CUP': 24.0, 'CVE': 94.1037, 'CZK': 21.0377, 'DJF': 177.721, 'DKK': 6.3659, 'DOP': 59.98, 'DZD': 129.788, 'EGP': 49.6182, 'ERN': 15.0, 'ETB': 137.5551, 'EUR': 0.8534, 'FJD': 2.2503, 'FKP': 0.736, 'FOK': 6.3662, 'GBP': 0.736, 'GEL': 2.7167, 'GGP': 0.736, 'GHS': 10.6314, 'GIP': 0.736, 'GMD': 72.7396, 'GNF': 8682.7498, 'GTQ': 7.6885, 'GYD': 209.1568, 'HKD': 7.8502, 'HNL': 26.1719, 'HRK': 6.4302, 'HTG': 131.1349, 'HUF': 341.4745, 'IDR': 16263.743, 'ILS': 3.3221, 'IMP': 0.736, 'INR': 85.7264, 'IQD': 1310.1476, 'IRR': 42334.5188, 'ISK': 122.5678, 'JEP': 0.736, 'JMD': 159.8444, 'JOD': 0.709, 'JPY': 146.3636, 'KES': 129.335, 'KGS': 87.4003, 'KHR': 4015.4022, 'KID': 1.5307, 'KMF': 419.861, 'KRW': 1374.4016, 'KWD': 0.3055, 'KYD': 0.8333, 'KZT': 518.843, 'LAK': 21597.6295, 'LBP': 89500.0, 'LKR': 300.7053, 'LRD': 200.4718, 'LSL': 17.8114, 'LYD': 5.4022, 'MAD': 9.0078, 'MDL': 16.9167, 'MGA': 4415.7536, 'MKD': 52.5961, 'MMK': 2102.3891, 'MNT': 3608.1854, 'MOP': 8.0857, 'MRU': 39.931, 'MUR': 45.197, 'MVR': 15.4601, 'MWK': 1739.7796, 'MXN': 18.613, 'MYR': 4.2509, 'MZN': 63.6983, 'NAD': 17.8114, 'NGN': 1530.3732, 'NIO': 36.8156, 'NOK': 10.0909, 'NPR': 137.162, 'NZD': 1.6674, 'OMR': 0.3845, 'PAB': 1.0, 'PEN': 3.5503, 'PGK': 4.18, 'PHP': 56.5894, 'PKR': 284.0285, 'PLN': 3.6221, 'PYG': 7840.5387, 'QAR': 3.64, 'RON': 4.338, 'RSD': 100.0988, 'RUB': 78.2208, 'RWF': 1446.6251, 'SAR': 3.75, 'SBD': 8.2609, 'SCR': 14.5686, 'SDG': 544.224, 'SEK': 9.5152, 'SGD': 1.2804, 'SHP': 0.736, 'SLE': 22.4531, 'SLL': 22453.1339, 'SOS': 571.5225, 'SRD': 37.3735, 'SSP': 4533.1783, 'STN': 20.9091, 'SYP': 12956.374, 'SZL': 17.8114, 'THB': 32.6627, 'TJS': 9.7, 'TMT': 3.4991, 'TND': 2.8957, 'TOP': 2.377, 'TRY': 40.0827, 'TTD': 6.7793, 'TVD': 1.5307, 'TWD': 29.1281, 'TZS': 2613.0382, 'UAH': 41.8051, 'UGX': 3577.5163, 'UYU': 40.4847, 'UZS': 12692.9291, 'VES': 113.7505, 'VND': 26081.2173, 'VUV': 119.3634, 'WST': 2.733, 'XAF': 559.8146, 'XCD': 2.7, 'XCG': 1.79, 'XDR': 0.7294, 'XOF': 559.8146, 'XPF': 101.8417, 'YER': 242.1688, 'ZAR': 17.8128, 'ZMW': 24.4336, 'ZWL': 26.8905}}\n",
      "\n",
      " 100.0 USD = 8572.64 INR\n",
      "(Exchange rate: 1 USD = 85.7264 INR)\n"
     ]
    }
   ],
   "source": [
    "\n",
    "amount = float(input(\"Enter amount to convert: \"))\n",
    "base = input(\"Enter source currency (USD): \")\n",
    "target = input(\"Enter target currency (INR): \")\n",
    "\n",
    "convert_currency(amount, base, target)\n"
   ]
  },
  {
   "cell_type": "code",
   "execution_count": null,
   "id": "70f287e7-5803-4166-82eb-ff091154e88b",
   "metadata": {},
   "outputs": [],
   "source": []
  }
 ],
 "metadata": {
  "kernelspec": {
   "display_name": "Python [conda env:base] *",
   "language": "python",
   "name": "conda-base-py"
  },
  "language_info": {
   "codemirror_mode": {
    "name": "ipython",
    "version": 3
   },
   "file_extension": ".py",
   "mimetype": "text/x-python",
   "name": "python",
   "nbconvert_exporter": "python",
   "pygments_lexer": "ipython3",
   "version": "3.12.7"
  }
 },
 "nbformat": 4,
 "nbformat_minor": 5
}
